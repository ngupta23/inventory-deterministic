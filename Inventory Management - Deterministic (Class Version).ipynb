{
  "cells": [
    {
      "cell_type": "markdown",
      "metadata": {
        "id": "view-in-github",
        "colab_type": "text"
      },
      "source": [
        "<a href=\"https://colab.research.google.com/github/ngupta23/inventory-deterministic/blob/main/Inventory%20Management%20-%20Deterministic%20(Class%20Version).ipynb\" target=\"_parent\"><img src=\"https://colab.research.google.com/assets/colab-badge.svg\" alt=\"Open In Colab\"/></a>"
      ]
    },
    {
      "cell_type": "markdown",
      "source": [
        "## Article Link\n",
        "https://towardsdatascience.com/inventory-management-for-retail-deterministic-demand-311682c02518"
      ],
      "metadata": {
        "id": "196CcarPcKsB"
      }
    },
    {
      "cell_type": "code",
      "execution_count": 1,
      "metadata": {
        "collapsed": true,
        "id": "vg_QeqlYZ-Mt"
      },
      "outputs": [],
      "source": [
        "import pandas as pd\n",
        "import matplotlib.pyplot as plt\n",
        "import numpy as np\n",
        "import math\n",
        "import warnings"
      ]
    },
    {
      "cell_type": "code",
      "execution_count": 2,
      "metadata": {
        "collapsed": true,
        "id": "Eqm7OTkIZ-Mw"
      },
      "outputs": [],
      "source": [
        "warnings.filterwarnings('ignore')"
      ]
    },
    {
      "cell_type": "markdown",
      "metadata": {
        "id": "hkLjBV6WZ-My"
      },
      "source": [
        "## Parameters"
      ]
    },
    {
      "cell_type": "markdown",
      "metadata": {
        "id": "T8wi5xP_Z-M1"
      },
      "source": [
        "### Functions"
      ]
    },
    {
      "cell_type": "code",
      "execution_count": 3,
      "metadata": {
        "collapsed": true,
        "id": "vehR7acvZ-M2"
      },
      "outputs": [],
      "source": [
        "# Deterministic constant demand\n",
        "def demand(D):\n",
        "    return D"
      ]
    },
    {
      "cell_type": "code",
      "execution_count": 4,
      "metadata": {
        "collapsed": true,
        "id": "_sMXLyN-Z-M4"
      },
      "outputs": [],
      "source": [
        "# Order every cycle time\n",
        "def order(t, T, Q):\n",
        "    \"\"\"\n",
        "    t = current time period\n",
        "    T = Replenishment Period\n",
        "    Q = Order Quantity 1: 0 stock  \n",
        "    \"\"\"\n",
        "    # Reorder when t = 1 + k x T \n",
        "    if ((t-1) % T)==0 or (t==1): #((t-1) % T)==0\n",
        "        result = Q\n",
        "    else:\n",
        "        result = 0\n",
        "    return result"
      ]
    },
    {
      "cell_type": "code",
      "execution_count": 5,
      "metadata": {
        "collapsed": true,
        "id": "P79uWb8ZZ-M5"
      },
      "outputs": [],
      "source": [
        "# Simulation version 1: with leadtime uncompensated\n",
        "def sim(Q, T, D_day, T_total, LD):\n",
        "    \"\"\"\n",
        "    Q = Order Quantity 1: 0 stock\n",
        "    T = Replenishment Period\n",
        "    D_day = Demand per day (unit/day)\n",
        "    T_total = Total Time (days)\n",
        "    LD = Lead Time between ordering and receiving (i.e. Cycle Time)\n",
        "    \"\"\"\n",
        "    df_sim = pd.DataFrame({'time': np.array(range(1, T_total+1))})\n",
        "    \n",
        "    # Demand Function (\"demand\" = demand per day)\n",
        "    df_sim['demand'] = df_sim['time'].apply(lambda t: demand(D_day))\n",
        "    \n",
        "    # Order Function (\"order\" = how many units to order each day?)\n",
        "    df_sim['order'] = df_sim['time'].apply(lambda t: order(t, T, Q))\n",
        "    \n",
        "    # Inventory on Hand = Order - Demand\n",
        "    df_sim['ioh'] = df_sim['order'].cumsum().shift(LD) - df_sim['demand'].cumsum()\n",
        "\n",
        "    # Inventory on Hand: Add extra records for the replenishment time at t = k x T - LD (for visualisation)\n",
        "    df_simp = df_sim[df_sim['time'].apply(lambda t: ((t-LD) % T)==0 and (t!=0 + LD))]\n",
        "    df_simp['ioh'] = df_simp['ioh'] + Q\n",
        "    df_sim = pd.concat([df_sim, df_simp]).sort_values(['time', 'ioh'], ascending= [True, True])\n",
        "    \n",
        "    # Print Results\n",
        "    print(\"Demand during cycle time: {:,} units\".format(round(D_day * T, 2)))\n",
        "    print(\"Average IOH for {:,} days cycle time: {:,} units\".format(T, round(df_sim['ioh'].mean(),2)))\n",
        "    \n",
        "    return df_sim"
      ]
    },
    {
      "cell_type": "markdown",
      "metadata": {
        "id": "DCLrT16NZ-M7"
      },
      "source": [
        "---"
      ]
    },
    {
      "cell_type": "markdown",
      "metadata": {
        "id": "QTRpga9tZ-M8"
      },
      "source": [
        "## Initial Rule\n",
        "#### Parameters"
      ]
    },
    {
      "cell_type": "code",
      "execution_count": null,
      "metadata": {
        "collapsed": true,
        "id": "k0dThj0CZ-M-"
      },
      "outputs": [],
      "source": [
        "# Total Demand (units/year)\n",
        "D = 2000\n",
        "# Total Time (days)\n",
        "T_total = 365\n",
        "# Demand per day (unit/day)\n",
        "D_day = D/T_total\n",
        "# Cost of product ($/unit)\n",
        "c = 50\n",
        "# Cost of placing an order ($/order)\n",
        "c_t = 500\n",
        "\n",
        "# Holding Cost (% unit cost per year)\n",
        "h = .25\n",
        "c_e = h * c\n",
        "# Selling Price ($/unit)\n",
        "p = 75\n",
        "# Lead Time between ordering and receiving\n",
        "LD = 0\n",
        "\n",
        "# Order Quantity 1: 0 stock\n",
        "Q = 55\n",
        "\n",
        "# Cost of shortage ($/unit)\n",
        "c_s = 12\n",
        "\n",
        "# Replenishment Period\n",
        "T = get_replenishment_period(Q=Q, D_day=D_day)\n",
        "\n",
        "# Number of orders per year\n",
        "num_orders = get_number_of_orders(D=D, Q=Q)\n"
      ]
    },
    {
      "cell_type": "code",
      "source": [
        "class DeterministicDemandSimulator():\n",
        "  def __init__(self, total_demand, total_time, cost_of_placing_order, replenishment_quantity, unit_cost, holding_cost_per_unit, manufacturing_cycle_time):\n",
        "    \"\"\"\n",
        "    \"\"\"\n",
        "    self.total_demand = total_demand\n",
        "    self.total_time = total_time\n",
        "    self.replenishment_quantity = replenishment_quantity\n",
        "    self.unit_cost = unit_cost\n",
        "    self.cost_of_placing_order = cost_of_placing_order\n",
        "    self.holding_cost_per_unit = holding_cost_per_unit\n",
        "    self.manufacturing_cycle_time = manufacturing_cycle_time\n",
        "    \n",
        "  def _set_demand_per_day(self):\n",
        "    self.demand_per_day = np.ceil(self.total_demand/self.total_time)\n",
        "\n",
        "  def _set_replenishment_period(self):\n",
        "    \"\"\"Set the time between orders\n",
        "    \"\"\"\n",
        "    self.replenishment_period = math.floor(self.replenishment_quantity/self.demand_per_day)\n",
        "\n",
        "  def _set_number_of_orders(self):\n",
        "    \"\"\"Set the number of prelenishment orders placed in the \"total_time\" days\n",
        "    \"\"\"\n",
        "    self.num_orders = math.ceil(self.total_demand/self.replenishment_quantity)\n",
        "\n",
        "  def setup(self):\n",
        "    \"\"\"\n",
        "    \"\"\"\n",
        "    self._set_demand_per_day()\n",
        "    self._set_replenishment_period()\n",
        "    self._set_number_of_orders()\n",
        "\n",
        "  def get_demand_per_day(self):\n",
        "    \"\"\"Return Deterministic constant demand\n",
        "    \"\"\"\n",
        "    return self.demand_per_day\n",
        "\n",
        "  def get_order_quantity_per_day(self, present_day):\n",
        "      \"\"\"\n",
        "      Order every cycle time\n",
        "      t = current time period\n",
        "      \"\"\"\n",
        "      # Reorder when t = 1 + k x T \n",
        "      if ((present_day-1) % self.replenishment_period)==0 or (present_day==1): \n",
        "          return self.replenishment_quantity\n",
        "      else:\n",
        "          return 0\n",
        "\n",
        "  # Simulation version 1: with leadtime uncompensated\n",
        "  def sim(self):\n",
        "      \"\"\"\n",
        "      Q = Order Quantity 1: 0 stock\n",
        "      T = Replenishment Period\n",
        "      D_day = Demand per day (unit/day)\n",
        "      T_total = Total Time (days)\n",
        "      LD = Lead Time between ordering and receiving (i.e. Cycle Time)\n",
        "      \"\"\"\n",
        "      df_sim = pd.DataFrame({'time': np.array(range(1, self.total_time+1))})\n",
        "      \n",
        "      # Demand Function (\"demand\" = demand per day)\n",
        "      df_sim['demand'] = df_sim['time'].apply(lambda t: self.get_demand_per_day())\n",
        "      \n",
        "      # Order Function (\"order\" = how many units to order each day?)\n",
        "      df_sim['order'] = df_sim['time'].apply(lambda t: self.get_order_quantity_per_day(t))\n",
        "      \n",
        "      # Inventory on Hand = Order - Demand\n",
        "      df_sim['ioh'] = df_sim['order'].cumsum().shift(self.manufacturing_cycle_time) - df_sim['demand'].cumsum()\n",
        "\n",
        "      # Inventory on Hand: Add extra records for the replenishment time at t = k x T - LD (for visualisation)\n",
        "      df_simp = df_sim[df_sim['time'].apply(lambda t: ((t-self.manufacturing_cycle_time) % self.replenishment_period)==0 and (t!=0 + self.manufacturing_cycle_time))]\n",
        "      df_simp['ioh'] = df_simp['ioh'] + self.replenishment_quantity\n",
        "      df_sim = pd.concat([df_sim, df_simp]).sort_values(['time', 'ioh'], ascending= [True, True])\n",
        "      \n",
        "      # Print Results\n",
        "      demand_during_cycle_time = math.ceil(self.demand_per_day * self.replenishment_period)\n",
        "      print(f\"Demand during cycle time: {demand_during_cycle_time} units\")\n",
        "\n",
        "      avg_ioh = round(df_sim['ioh'].mean(),2)\n",
        "      print(f\"Average IOH for Replenishment Period = {self.replenishment_period} days is {avg_ioh} units\")\n",
        "      \n",
        "      return df_sim\n",
        "      \n",
        "  def _set_order_cost(self):\n",
        "    \"\"\"\n",
        "    \"\"\"\n",
        "    order_cost = (self.unit_cost * self.total_demand) + (self.cost_of_placing_order * self.num_orders)\n",
        "\n",
        "  def _set_holding_cost(self):\n",
        "    \"\"\"\n",
        "    \"\"\"\n",
        "    self.holding_cost = self.holding_cost_per_unit * (self.replenishment_quantity / 2)\n",
        "\n",
        "  def _set_relevant_cost(self):\n",
        "    \"\"\"\n",
        "    \"\"\"\n",
        "    self.relevant_cost = self.order_cost + self.holding_cost    "
      ],
      "metadata": {
        "id": "gVWsWloEmlwU"
      },
      "execution_count": 16,
      "outputs": []
    },
    {
      "cell_type": "code",
      "source": [
        "dds = DeterministicDemandSimulator(\n",
        "  total_demand = 2000,\n",
        "  total_time = 365,\n",
        "  replenishment_quantity = 55,\n",
        "  unit_cost = 50,\n",
        "  cost_of_placing_order = 500,\n",
        "  holding_cost_per_unit = 12.5,\n",
        "  manufacturing_cycle_time = 0\n",
        ")"
      ],
      "metadata": {
        "id": "sxWrSo99sznl"
      },
      "execution_count": 17,
      "outputs": []
    },
    {
      "cell_type": "code",
      "source": [
        "dds.setup()"
      ],
      "metadata": {
        "id": "iRQg3Enet4gS"
      },
      "execution_count": 18,
      "outputs": []
    },
    {
      "cell_type": "code",
      "source": [
        "dds.demand_per_day, dds.replenishment_period, dds.num_orders"
      ],
      "metadata": {
        "id": "nucxp5RNujad",
        "outputId": "ea5f88c2-6ca2-4faf-937d-6711a4d1c00f",
        "colab": {
          "base_uri": "https://localhost:8080/"
        }
      },
      "execution_count": 19,
      "outputs": [
        {
          "output_type": "execute_result",
          "data": {
            "text/plain": [
              "(6.0, 9, 37)"
            ]
          },
          "metadata": {},
          "execution_count": 19
        }
      ]
    },
    {
      "cell_type": "code",
      "source": [
        "df_sim1"
      ],
      "metadata": {
        "colab": {
          "base_uri": "https://localhost:8080/",
          "height": 424
        },
        "id": "J2UmGXimweJb",
        "outputId": "182d4dfb-8a73-4e32-8f5a-4b710a23fecb"
      },
      "execution_count": 21,
      "outputs": [
        {
          "output_type": "execute_result",
          "data": {
            "text/html": [
              "\n",
              "  <div id=\"df-fd881cea-0c51-43db-bf94-ecddf6a3969e\">\n",
              "    <div class=\"colab-df-container\">\n",
              "      <div>\n",
              "<style scoped>\n",
              "    .dataframe tbody tr th:only-of-type {\n",
              "        vertical-align: middle;\n",
              "    }\n",
              "\n",
              "    .dataframe tbody tr th {\n",
              "        vertical-align: top;\n",
              "    }\n",
              "\n",
              "    .dataframe thead th {\n",
              "        text-align: right;\n",
              "    }\n",
              "</style>\n",
              "<table border=\"1\" class=\"dataframe\">\n",
              "  <thead>\n",
              "    <tr style=\"text-align: right;\">\n",
              "      <th></th>\n",
              "      <th>time</th>\n",
              "      <th>demand</th>\n",
              "      <th>order</th>\n",
              "      <th>ioh</th>\n",
              "    </tr>\n",
              "  </thead>\n",
              "  <tbody>\n",
              "    <tr>\n",
              "      <th>0</th>\n",
              "      <td>1</td>\n",
              "      <td>6.0</td>\n",
              "      <td>55</td>\n",
              "      <td>49.0</td>\n",
              "    </tr>\n",
              "    <tr>\n",
              "      <th>1</th>\n",
              "      <td>2</td>\n",
              "      <td>6.0</td>\n",
              "      <td>0</td>\n",
              "      <td>43.0</td>\n",
              "    </tr>\n",
              "    <tr>\n",
              "      <th>2</th>\n",
              "      <td>3</td>\n",
              "      <td>6.0</td>\n",
              "      <td>0</td>\n",
              "      <td>37.0</td>\n",
              "    </tr>\n",
              "    <tr>\n",
              "      <th>3</th>\n",
              "      <td>4</td>\n",
              "      <td>6.0</td>\n",
              "      <td>0</td>\n",
              "      <td>31.0</td>\n",
              "    </tr>\n",
              "    <tr>\n",
              "      <th>4</th>\n",
              "      <td>5</td>\n",
              "      <td>6.0</td>\n",
              "      <td>0</td>\n",
              "      <td>25.0</td>\n",
              "    </tr>\n",
              "    <tr>\n",
              "      <th>...</th>\n",
              "      <td>...</td>\n",
              "      <td>...</td>\n",
              "      <td>...</td>\n",
              "      <td>...</td>\n",
              "    </tr>\n",
              "    <tr>\n",
              "      <th>360</th>\n",
              "      <td>361</td>\n",
              "      <td>6.0</td>\n",
              "      <td>55</td>\n",
              "      <td>89.0</td>\n",
              "    </tr>\n",
              "    <tr>\n",
              "      <th>361</th>\n",
              "      <td>362</td>\n",
              "      <td>6.0</td>\n",
              "      <td>0</td>\n",
              "      <td>83.0</td>\n",
              "    </tr>\n",
              "    <tr>\n",
              "      <th>362</th>\n",
              "      <td>363</td>\n",
              "      <td>6.0</td>\n",
              "      <td>0</td>\n",
              "      <td>77.0</td>\n",
              "    </tr>\n",
              "    <tr>\n",
              "      <th>363</th>\n",
              "      <td>364</td>\n",
              "      <td>6.0</td>\n",
              "      <td>0</td>\n",
              "      <td>71.0</td>\n",
              "    </tr>\n",
              "    <tr>\n",
              "      <th>364</th>\n",
              "      <td>365</td>\n",
              "      <td>6.0</td>\n",
              "      <td>0</td>\n",
              "      <td>65.0</td>\n",
              "    </tr>\n",
              "  </tbody>\n",
              "</table>\n",
              "<p>405 rows × 4 columns</p>\n",
              "</div>\n",
              "      <button class=\"colab-df-convert\" onclick=\"convertToInteractive('df-fd881cea-0c51-43db-bf94-ecddf6a3969e')\"\n",
              "              title=\"Convert this dataframe to an interactive table.\"\n",
              "              style=\"display:none;\">\n",
              "        \n",
              "  <svg xmlns=\"http://www.w3.org/2000/svg\" height=\"24px\"viewBox=\"0 0 24 24\"\n",
              "       width=\"24px\">\n",
              "    <path d=\"M0 0h24v24H0V0z\" fill=\"none\"/>\n",
              "    <path d=\"M18.56 5.44l.94 2.06.94-2.06 2.06-.94-2.06-.94-.94-2.06-.94 2.06-2.06.94zm-11 1L8.5 8.5l.94-2.06 2.06-.94-2.06-.94L8.5 2.5l-.94 2.06-2.06.94zm10 10l.94 2.06.94-2.06 2.06-.94-2.06-.94-.94-2.06-.94 2.06-2.06.94z\"/><path d=\"M17.41 7.96l-1.37-1.37c-.4-.4-.92-.59-1.43-.59-.52 0-1.04.2-1.43.59L10.3 9.45l-7.72 7.72c-.78.78-.78 2.05 0 2.83L4 21.41c.39.39.9.59 1.41.59.51 0 1.02-.2 1.41-.59l7.78-7.78 2.81-2.81c.8-.78.8-2.07 0-2.86zM5.41 20L4 18.59l7.72-7.72 1.47 1.35L5.41 20z\"/>\n",
              "  </svg>\n",
              "      </button>\n",
              "      \n",
              "  <style>\n",
              "    .colab-df-container {\n",
              "      display:flex;\n",
              "      flex-wrap:wrap;\n",
              "      gap: 12px;\n",
              "    }\n",
              "\n",
              "    .colab-df-convert {\n",
              "      background-color: #E8F0FE;\n",
              "      border: none;\n",
              "      border-radius: 50%;\n",
              "      cursor: pointer;\n",
              "      display: none;\n",
              "      fill: #1967D2;\n",
              "      height: 32px;\n",
              "      padding: 0 0 0 0;\n",
              "      width: 32px;\n",
              "    }\n",
              "\n",
              "    .colab-df-convert:hover {\n",
              "      background-color: #E2EBFA;\n",
              "      box-shadow: 0px 1px 2px rgba(60, 64, 67, 0.3), 0px 1px 3px 1px rgba(60, 64, 67, 0.15);\n",
              "      fill: #174EA6;\n",
              "    }\n",
              "\n",
              "    [theme=dark] .colab-df-convert {\n",
              "      background-color: #3B4455;\n",
              "      fill: #D2E3FC;\n",
              "    }\n",
              "\n",
              "    [theme=dark] .colab-df-convert:hover {\n",
              "      background-color: #434B5C;\n",
              "      box-shadow: 0px 1px 3px 1px rgba(0, 0, 0, 0.15);\n",
              "      filter: drop-shadow(0px 1px 2px rgba(0, 0, 0, 0.3));\n",
              "      fill: #FFFFFF;\n",
              "    }\n",
              "  </style>\n",
              "\n",
              "      <script>\n",
              "        const buttonEl =\n",
              "          document.querySelector('#df-fd881cea-0c51-43db-bf94-ecddf6a3969e button.colab-df-convert');\n",
              "        buttonEl.style.display =\n",
              "          google.colab.kernel.accessAllowed ? 'block' : 'none';\n",
              "\n",
              "        async function convertToInteractive(key) {\n",
              "          const element = document.querySelector('#df-fd881cea-0c51-43db-bf94-ecddf6a3969e');\n",
              "          const dataTable =\n",
              "            await google.colab.kernel.invokeFunction('convertToInteractive',\n",
              "                                                     [key], {});\n",
              "          if (!dataTable) return;\n",
              "\n",
              "          const docLinkHtml = 'Like what you see? Visit the ' +\n",
              "            '<a target=\"_blank\" href=https://colab.research.google.com/notebooks/data_table.ipynb>data table notebook</a>'\n",
              "            + ' to learn more about interactive tables.';\n",
              "          element.innerHTML = '';\n",
              "          dataTable['output_type'] = 'display_data';\n",
              "          await google.colab.output.renderOutput(dataTable, element);\n",
              "          const docLink = document.createElement('div');\n",
              "          docLink.innerHTML = docLinkHtml;\n",
              "          element.appendChild(docLink);\n",
              "        }\n",
              "      </script>\n",
              "    </div>\n",
              "  </div>\n",
              "  "
            ],
            "text/plain": [
              "     time  demand  order   ioh\n",
              "0       1     6.0     55  49.0\n",
              "1       2     6.0      0  43.0\n",
              "2       3     6.0      0  37.0\n",
              "3       4     6.0      0  31.0\n",
              "4       5     6.0      0  25.0\n",
              "..    ...     ...    ...   ...\n",
              "360   361     6.0     55  89.0\n",
              "361   362     6.0      0  83.0\n",
              "362   363     6.0      0  77.0\n",
              "363   364     6.0      0  71.0\n",
              "364   365     6.0      0  65.0\n",
              "\n",
              "[405 rows x 4 columns]"
            ]
          },
          "metadata": {},
          "execution_count": 21
        }
      ]
    },
    {
      "cell_type": "code",
      "source": [
        "df_sim1 = dds.sim()"
      ],
      "metadata": {
        "id": "g6q4n9fjuz9l",
        "outputId": "914ff06f-14c6-4fd0-dde3-8fa4b0c04931",
        "colab": {
          "base_uri": "https://localhost:8080/"
        }
      },
      "execution_count": 20,
      "outputs": [
        {
          "output_type": "stream",
          "name": "stdout",
          "text": [
            "Demand during cycle time: 54 units\n",
            "Average IOH for Replenishment Period = 9 days is 47.96 units\n"
          ]
        }
      ]
    },
    {
      "cell_type": "markdown",
      "source": [
        "### Cost Visualization\n"
      ],
      "metadata": {
        "id": "k0ky56FYjhJU"
      }
    },
    {
      "cell_type": "code",
      "source": [
        "#### Yearly Cost Components\n",
        "order_cost = c*D + c_t * num_orders\n",
        "holding_cost = c_e * Q/2\n",
        "# shortage_cost = c_s * E\n",
        "relevant_cost = order_cost + holding_cost"
      ],
      "metadata": {
        "id": "uB0U6GXJjmB1"
      },
      "execution_count": null,
      "outputs": []
    },
    {
      "cell_type": "markdown",
      "metadata": {
        "id": "W2KmIVyaZ-M_"
      },
      "source": [
        "#### Simulation"
      ]
    },
    {
      "cell_type": "code",
      "execution_count": null,
      "metadata": {
        "id": "ZB2aMQQSZ-NA",
        "outputId": "779442b6-dcb9-43ea-b279-050859f34a7c",
        "colab": {
          "base_uri": "https://localhost:8080/"
        }
      },
      "outputs": [
        {
          "output_type": "stream",
          "name": "stdout",
          "text": [
            "LD = 0 days\n",
            "Demand during cycle time: 54.79 units\n",
            "Average IOH for 10 days cycle time: 31.4 units\n"
          ]
        }
      ],
      "source": [
        "print(\"LD = {:,} days\".format(LD))\n",
        "df_sim1 = sim(Q, T, D_day, T_total, LD)"
      ]
    },
    {
      "cell_type": "markdown",
      "metadata": {
        "id": "iX6DdkVRZ-ND"
      },
      "source": [
        "#### Plot"
      ]
    },
    {
      "cell_type": "code",
      "execution_count": 22,
      "metadata": {
        "id": "Cynj5EmPZ-ND",
        "outputId": "648f7fe3-46da-4779-ffe4-5500b0e82dcf",
        "colab": {
          "base_uri": "https://localhost:8080/",
          "height": 886
        }
      },
      "outputs": [
        {
          "output_type": "display_data",
          "data": {
            "image/png": "[encoded data removed]",
            "text/plain": [
              "<Figure size 1440x1080 with 3 Axes>"
            ]
          },
          "metadata": {
            "needs_background": "light"
          }
        }
      ],
      "source": [
        "# Plot\n",
        "figure, axes = plt.subplots(3, 1)\n",
        "\n",
        "df_sim1.plot(figsize=(20, 12), xlim=[0,300] , x='time', y='demand', ax=axes[0], grid = True, color = 'r')\n",
        "df_sim1.plot.scatter(figsize=(20, 12), xlim=[0,300], x='time', y='order', ax=axes[1], grid = True, color ='b')\n",
        "df_sim1.plot(figsize=(20, 15), xlim=[0, 300], x='time', y='ioh', ax=axes[2], grid = True, color = 'g')\n",
        "\n",
        "plt.xlabel('Time (day)')\n",
        "plt.ylabel('ioh')\n",
        "plt.xticks(rotation=90)\n",
        "\n",
        "plt.show()"
      ]
    },
    {
      "cell_type": "code",
      "source": [
        ""
      ],
      "metadata": {
        "id": "inENdnSAgjiP"
      },
      "execution_count": null,
      "outputs": []
    }
  ],
  "metadata": {
    "kernelspec": {
      "display_name": "Python 3",
      "language": "python",
      "name": "python3"
    },
    "language_info": {
      "codemirror_mode": {
        "name": "ipython",
        "version": 3
      },
      "file_extension": ".py",
      "mimetype": "text/x-python",
      "name": "python",
      "nbconvert_exporter": "python",
      "pygments_lexer": "ipython3",
      "version": "3.6.1"
    },
    "colab": {
      "name": "Inventory Management - Deterministic.ipynb",
      "provenance": [],
      "include_colab_link": true
    }
  },
  "nbformat": 4,
  "nbformat_minor": 0
}