{
  "cells": [
    {
      "cell_type": "markdown",
      "metadata": {
        "id": "view-in-github",
        "colab_type": "text"
      },
      "source": [
        "<a href=\"https://colab.research.google.com/github/ngupta23/inventory-deterministic/blob/main/Inventory%20Management%20-%20Deterministic.ipynb\" target=\"_parent\"><img src=\"https://colab.research.google.com/assets/colab-badge.svg\" alt=\"Open In Colab\"/></a>"
      ]
    },
    {
      "cell_type": "code",
      "execution_count": 1,
      "metadata": {
        "collapsed": true,
        "id": "UtknNuvjGm3d"
      },
      "outputs": [],
      "source": [
        "import pandas as pd\n",
        "import matplotlib.pyplot as plt\n",
        "import numpy as np\n",
        "import math\n",
        "import warnings"
      ]
    },
    {
      "cell_type": "code",
      "execution_count": 2,
      "metadata": {
        "collapsed": true,
        "id": "wOelVhn1Gm3i"
      },
      "outputs": [],
      "source": [
        "warnings.filterwarnings('ignore')"
      ]
    },
    {
      "cell_type": "markdown",
      "metadata": {
        "id": "rtUA91SSGm3l"
      },
      "source": [
        "## Parameters"
      ]
    },
    {
      "cell_type": "markdown",
      "metadata": {
        "id": "5DTHyvsfGm3o"
      },
      "source": [
        "### Functions"
      ]
    },
    {
      "cell_type": "code",
      "execution_count": 3,
      "metadata": {
        "collapsed": true,
        "id": "fb-_bhb-Gm3q"
      },
      "outputs": [],
      "source": [
        "# Deterministic constant demand\n",
        "def demand(D):\n",
        "    return D"
      ]
    },
    {
      "cell_type": "code",
      "execution_count": 4,
      "metadata": {
        "collapsed": true,
        "id": "YfQ1o8EgGm3s"
      },
      "outputs": [],
      "source": [
        "# Order every cycle time\n",
        "def order(t, T, Q):\n",
        "    # Reorder when t = 1 + k x T \n",
        "    if ((t-1) % T)==0 or (t==1): #((t-1) % T)==0\n",
        "        result = Q\n",
        "    else:\n",
        "        result = 0\n",
        "    return result"
      ]
    },
    {
      "cell_type": "code",
      "execution_count": 5,
      "metadata": {
        "collapsed": true,
        "id": "Q33l6XHPGm3u"
      },
      "outputs": [],
      "source": [
        "# Simulation version 1: with leadtime uncompensated\n",
        "def sim(Q, T, D_day, T_total, LD):\n",
        "    df_sim = pd.DataFrame({'time': np.array(range(1, T_total+1))})\n",
        "    # Demand Function\n",
        "    df_sim['demand'] = df_sim['time'].apply(lambda t: demand(D_day))\n",
        "    # Order Function\n",
        "    df_sim['order'] = df_sim['time'].apply(lambda t: order(t, T, Q))\n",
        "    # Inventory on Hand = Order - Demand\n",
        "    df_sim['ioh'] = df_sim['order'].cumsum().shift(LD) - df_sim['demand'].cumsum()\n",
        "\n",
        "    # Inventory on Hand: Add extra records for the replenishment time at t = k x T - LD (for visualisation)\n",
        "    df_simp = df_sim[df_sim['time'].apply(lambda t: ((t-LD) % T)==0 and (t!=0 + LD))]\n",
        "    df_simp['ioh'] = df_simp['ioh'] + Q\n",
        "    df_sim = pd.concat([df_sim, df_simp]).sort_values(['time', 'ioh'], ascending= [True, True])\n",
        "    \n",
        "    # Print Results\n",
        "    print(\"Demand during cycle time: {:,} units\".format(round(D_day * T, 2)))\n",
        "    print(\"Average IOH for {:,} days cycle time: {:,} units\".format(T, round(df_sim['ioh'].mean(),2)))\n",
        "    return df_sim"
      ]
    },
    {
      "cell_type": "markdown",
      "metadata": {
        "id": "DIWezVUpGm3w"
      },
      "source": [
        "---"
      ]
    },
    {
      "cell_type": "markdown",
      "metadata": {
        "id": "GfX8Un6rGm3y"
      },
      "source": [
        "## Initial Rule\n",
        "#### Parameters"
      ]
    },
    {
      "cell_type": "code",
      "execution_count": 6,
      "metadata": {
        "collapsed": true,
        "id": "scivTqWSGm31"
      },
      "outputs": [],
      "source": [
        "# Total Demand (units/year)\n",
        "D = 2000\n",
        "# Total Time (days)\n",
        "T_total = 365\n",
        "# Demand per day (unit/day)\n",
        "D_day = D/T_total\n",
        "# Cost of product ($/unit)\n",
        "c = 50\n",
        "# Cost of placing an order ($/order)\n",
        "c_t = 500\n",
        "# Holding Cost (% unit cost per year)\n",
        "h = .25\n",
        "c_e = h * c\n",
        "# Selling Price ($/unit)\n",
        "p = 75\n",
        "# Lead Time between ordering and receiving\n",
        "LD = 0\n",
        "# Replenishment Period\n",
        "T = 10\n",
        "# Order Quantity 1: 0 stock\n",
        "Q = D_day * T\n",
        "# Cost of shortage ($/unit)\n",
        "c_s = 12"
      ]
    },
    {
      "cell_type": "markdown",
      "metadata": {
        "id": "7mR1xVv3Gm33"
      },
      "source": [
        "#### Simulation"
      ]
    },
    {
      "cell_type": "code",
      "execution_count": 7,
      "metadata": {
        "id": "fbF_XJvxGm35",
        "outputId": "d117d994-9894-482b-ffbc-0f4a47edb2bd",
        "colab": {
          "base_uri": "https://localhost:8080/"
        }
      },
      "outputs": [
        {
          "output_type": "stream",
          "name": "stdout",
          "text": [
            "LD = 0 days\n",
            "Demand during cycle time: 54.79 units\n",
            "Average IOH for 10 days cycle time: 27.53 units\n"
          ]
        }
      ],
      "source": [
        "print(\"LD = {:,} days\".format(LD))\n",
        "df_sim1 = sim(Q, T, D_day, T_total, LD)"
      ]
    },
    {
      "cell_type": "markdown",
      "metadata": {
        "id": "XJSt4yZPGm36"
      },
      "source": [
        "#### Plot"
      ]
    },
    {
      "cell_type": "code",
      "execution_count": 8,
      "metadata": {
        "id": "cR-iDj4oGm37",
        "outputId": "ea3f54d6-6c5d-4bac-e296-a5a021f28699",
        "colab": {
          "base_uri": "https://localhost:8080/",
          "height": 886
        }
      },
      "outputs": [
        {
          "output_type": "display_data",
          "data": {
            "image/png": "[encoded data removed]",
            "text/plain": [
              "<Figure size 1440x1080 with 3 Axes>"
            ]
          },
          "metadata": {
            "needs_background": "light"
          }
        }
      ],
      "source": [
        "# Plot\n",
        "figure, axes = plt.subplots(3, 1)\n",
        "\n",
        "df_sim1.plot(figsize=(20, 12), xlim=[0,300] , x='time', y='demand', ax=axes[0], grid = True, color = 'r')\n",
        "df_sim1.plot.scatter(figsize=(20, 12), xlim=[0,300], x='time', y='order', ax=axes[1], grid = True, color ='b')\n",
        "df_sim1.plot(figsize=(20, 15), xlim=[0, 300], x='time', y='ioh', ax=axes[2], grid = True, color = 'g')\n",
        "\n",
        "plt.xlabel('Time (day)')\n",
        "plt.ylabel('ioh')\n",
        "plt.xticks(rotation=90)\n",
        "\n",
        "plt.show()"
      ]
    },
    {
      "cell_type": "code",
      "source": [
        "df_sim1"
      ],
      "metadata": {
        "id": "SJlV7RwCGpgD",
        "outputId": "6534ba26-5547-4201-bb65-2444f67cb213",
        "colab": {
          "base_uri": "https://localhost:8080/",
          "height": 655
        }
      },
      "execution_count": 9,
      "outputs": [
        {
          "output_type": "execute_result",
          "data": {
            "text/html": [
              "\n",
              "  <div id=\"df-ab7d104e-e3e7-4711-83fc-25e528b08f41\">\n",
              "    <div class=\"colab-df-container\">\n",
              "      <div>\n",
              "<style scoped>\n",
              "    .dataframe tbody tr th:only-of-type {\n",
              "        vertical-align: middle;\n",
              "    }\n",
              "\n",
              "    .dataframe tbody tr th {\n",
              "        vertical-align: top;\n",
              "    }\n",
              "\n",
              "    .dataframe thead th {\n",
              "        text-align: right;\n",
              "    }\n",
              "</style>\n",
              "<table border=\"1\" class=\"dataframe\">\n",
              "  <thead>\n",
              "    <tr style=\"text-align: right;\">\n",
              "      <th></th>\n",
              "      <th>time</th>\n",
              "      <th>demand</th>\n",
              "      <th>order</th>\n",
              "      <th>ioh</th>\n",
              "    </tr>\n",
              "  </thead>\n",
              "  <tbody>\n",
              "    <tr>\n",
              "      <th>0</th>\n",
              "      <td>1</td>\n",
              "      <td>5.479452</td>\n",
              "      <td>54.794521</td>\n",
              "      <td>49.315068</td>\n",
              "    </tr>\n",
              "    <tr>\n",
              "      <th>1</th>\n",
              "      <td>2</td>\n",
              "      <td>5.479452</td>\n",
              "      <td>0.000000</td>\n",
              "      <td>43.835616</td>\n",
              "    </tr>\n",
              "    <tr>\n",
              "      <th>2</th>\n",
              "      <td>3</td>\n",
              "      <td>5.479452</td>\n",
              "      <td>0.000000</td>\n",
              "      <td>38.356164</td>\n",
              "    </tr>\n",
              "    <tr>\n",
              "      <th>3</th>\n",
              "      <td>4</td>\n",
              "      <td>5.479452</td>\n",
              "      <td>0.000000</td>\n",
              "      <td>32.876712</td>\n",
              "    </tr>\n",
              "    <tr>\n",
              "      <th>4</th>\n",
              "      <td>5</td>\n",
              "      <td>5.479452</td>\n",
              "      <td>0.000000</td>\n",
              "      <td>27.397260</td>\n",
              "    </tr>\n",
              "    <tr>\n",
              "      <th>...</th>\n",
              "      <td>...</td>\n",
              "      <td>...</td>\n",
              "      <td>...</td>\n",
              "      <td>...</td>\n",
              "    </tr>\n",
              "    <tr>\n",
              "      <th>360</th>\n",
              "      <td>361</td>\n",
              "      <td>5.479452</td>\n",
              "      <td>54.794521</td>\n",
              "      <td>49.315068</td>\n",
              "    </tr>\n",
              "    <tr>\n",
              "      <th>361</th>\n",
              "      <td>362</td>\n",
              "      <td>5.479452</td>\n",
              "      <td>0.000000</td>\n",
              "      <td>43.835616</td>\n",
              "    </tr>\n",
              "    <tr>\n",
              "      <th>362</th>\n",
              "      <td>363</td>\n",
              "      <td>5.479452</td>\n",
              "      <td>0.000000</td>\n",
              "      <td>38.356164</td>\n",
              "    </tr>\n",
              "    <tr>\n",
              "      <th>363</th>\n",
              "      <td>364</td>\n",
              "      <td>5.479452</td>\n",
              "      <td>0.000000</td>\n",
              "      <td>32.876712</td>\n",
              "    </tr>\n",
              "    <tr>\n",
              "      <th>364</th>\n",
              "      <td>365</td>\n",
              "      <td>5.479452</td>\n",
              "      <td>0.000000</td>\n",
              "      <td>27.397260</td>\n",
              "    </tr>\n",
              "  </tbody>\n",
              "</table>\n",
              "<p>401 rows × 4 columns</p>\n",
              "</div>\n",
              "      <button class=\"colab-df-convert\" onclick=\"convertToInteractive('df-ab7d104e-e3e7-4711-83fc-25e528b08f41')\"\n",
              "              title=\"Convert this dataframe to an interactive table.\"\n",
              "              style=\"display:none;\">\n",
              "        \n",
              "  <svg xmlns=\"http://www.w3.org/2000/svg\" height=\"24px\"viewBox=\"0 0 24 24\"\n",
              "       width=\"24px\">\n",
              "    <path d=\"M0 0h24v24H0V0z\" fill=\"none\"/>\n",
              "    <path d=\"M18.56 5.44l.94 2.06.94-2.06 2.06-.94-2.06-.94-.94-2.06-.94 2.06-2.06.94zm-11 1L8.5 8.5l.94-2.06 2.06-.94-2.06-.94L8.5 2.5l-.94 2.06-2.06.94zm10 10l.94 2.06.94-2.06 2.06-.94-2.06-.94-.94-2.06-.94 2.06-2.06.94z\"/><path d=\"M17.41 7.96l-1.37-1.37c-.4-.4-.92-.59-1.43-.59-.52 0-1.04.2-1.43.59L10.3 9.45l-7.72 7.72c-.78.78-.78 2.05 0 2.83L4 21.41c.39.39.9.59 1.41.59.51 0 1.02-.2 1.41-.59l7.78-7.78 2.81-2.81c.8-.78.8-2.07 0-2.86zM5.41 20L4 18.59l7.72-7.72 1.47 1.35L5.41 20z\"/>\n",
              "  </svg>\n",
              "      </button>\n",
              "      \n",
              "  <style>\n",
              "    .colab-df-container {\n",
              "      display:flex;\n",
              "      flex-wrap:wrap;\n",
              "      gap: 12px;\n",
              "    }\n",
              "\n",
              "    .colab-df-convert {\n",
              "      background-color: #E8F0FE;\n",
              "      border: none;\n",
              "      border-radius: 50%;\n",
              "      cursor: pointer;\n",
              "      display: none;\n",
              "      fill: #1967D2;\n",
              "      height: 32px;\n",
              "      padding: 0 0 0 0;\n",
              "      width: 32px;\n",
              "    }\n",
              "\n",
              "    .colab-df-convert:hover {\n",
              "      background-color: #E2EBFA;\n",
              "      box-shadow: 0px 1px 2px rgba(60, 64, 67, 0.3), 0px 1px 3px 1px rgba(60, 64, 67, 0.15);\n",
              "      fill: #174EA6;\n",
              "    }\n",
              "\n",
              "    [theme=dark] .colab-df-convert {\n",
              "      background-color: #3B4455;\n",
              "      fill: #D2E3FC;\n",
              "    }\n",
              "\n",
              "    [theme=dark] .colab-df-convert:hover {\n",
              "      background-color: #434B5C;\n",
              "      box-shadow: 0px 1px 3px 1px rgba(0, 0, 0, 0.15);\n",
              "      filter: drop-shadow(0px 1px 2px rgba(0, 0, 0, 0.3));\n",
              "      fill: #FFFFFF;\n",
              "    }\n",
              "  </style>\n",
              "\n",
              "      <script>\n",
              "        const buttonEl =\n",
              "          document.querySelector('#df-ab7d104e-e3e7-4711-83fc-25e528b08f41 button.colab-df-convert');\n",
              "        buttonEl.style.display =\n",
              "          google.colab.kernel.accessAllowed ? 'block' : 'none';\n",
              "\n",
              "        async function convertToInteractive(key) {\n",
              "          const element = document.querySelector('#df-ab7d104e-e3e7-4711-83fc-25e528b08f41');\n",
              "          const dataTable =\n",
              "            await google.colab.kernel.invokeFunction('convertToInteractive',\n",
              "                                                     [key], {});\n",
              "          if (!dataTable) return;\n",
              "\n",
              "          const docLinkHtml = 'Like what you see? Visit the ' +\n",
              "            '<a target=\"_blank\" href=https://colab.research.google.com/notebooks/data_table.ipynb>data table notebook</a>'\n",
              "            + ' to learn more about interactive tables.';\n",
              "          element.innerHTML = '';\n",
              "          dataTable['output_type'] = 'display_data';\n",
              "          await google.colab.output.renderOutput(dataTable, element);\n",
              "          const docLink = document.createElement('div');\n",
              "          docLink.innerHTML = docLinkHtml;\n",
              "          element.appendChild(docLink);\n",
              "        }\n",
              "      </script>\n",
              "    </div>\n",
              "  </div>\n",
              "  "
            ],
            "text/plain": [
              "     time    demand      order        ioh\n",
              "0       1  5.479452  54.794521  49.315068\n",
              "1       2  5.479452   0.000000  43.835616\n",
              "2       3  5.479452   0.000000  38.356164\n",
              "3       4  5.479452   0.000000  32.876712\n",
              "4       5  5.479452   0.000000  27.397260\n",
              "..    ...       ...        ...        ...\n",
              "360   361  5.479452  54.794521  49.315068\n",
              "361   362  5.479452   0.000000  43.835616\n",
              "362   363  5.479452   0.000000  38.356164\n",
              "363   364  5.479452   0.000000  32.876712\n",
              "364   365  5.479452   0.000000  27.397260\n",
              "\n",
              "[401 rows x 4 columns]"
            ]
          },
          "metadata": {},
          "execution_count": 9
        }
      ]
    }
  ],
  "metadata": {
    "kernelspec": {
      "display_name": "Python 3",
      "language": "python",
      "name": "python3"
    },
    "language_info": {
      "codemirror_mode": {
        "name": "ipython",
        "version": 3
      },
      "file_extension": ".py",
      "mimetype": "text/x-python",
      "name": "python",
      "nbconvert_exporter": "python",
      "pygments_lexer": "ipython3",
      "version": "3.6.1"
    },
    "colab": {
      "name": "Inventory Management - Deterministic.ipynb",
      "provenance": [],
      "include_colab_link": true
    }
  },
  "nbformat": 4,
  "nbformat_minor": 0
}